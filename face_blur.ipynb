{
 "cells": [
  {
   "cell_type": "code",
   "execution_count": 1,
   "metadata": {},
   "outputs": [],
   "source": [
    "import cv2\n",
    "import face_recognition as fr"
   ]
  },
  {
   "cell_type": "code",
   "execution_count": 2,
   "metadata": {},
   "outputs": [],
   "source": [
    "import datetime"
   ]
  },
  {
   "cell_type": "code",
   "execution_count": 5,
   "metadata": {},
   "outputs": [],
   "source": [
    "def main():\n",
    "#Purpose : To blur out faces in a video stream to maintain privacy. This fucntion can be applied over any other project.\n",
    "#Author  : Santosh D Kolur\n",
    "\n",
    "    copy_flocation=[]  #To maintain a copy of face_locations later.\n",
    "    t=0                #To store time later\n",
    "    video_capture=cv2.VideoCapture(0)                               #Video capture through webcam. This could be changed to any video stream or a video file.\n",
    "    while True:\n",
    "        ret,frame=video_capture.read()                              #Read frame from webcam\n",
    "        frame1=frame[:, :, ::-1]                                    #Converting BGR to RGB for face_recognition to work.\n",
    "        face_locations=fr.face_locations(frame1)\n",
    "        if(len(face_locations)>0):                                  #Fix a faulty frame i.e. if face is not detected in a certain frame due to movement\n",
    "            t=datetime.datetime.now()\n",
    "        elif t!=0:                                                  #Sometime opencv returns nonetype frame in the beginnig\n",
    "            t2=datetime.datetime.now()\n",
    "            t3=t2-t\n",
    "            if t3.seconds <= 1 and t3.microseconds > 0:\n",
    "                   for (top, right, bottom, left) in copy_flocation: \n",
    "                        #Blur the same area where the face was previously detected for a second.\n",
    "                        #Helps when using in low light\n",
    "                        copy_flocation=face_locations\n",
    "                        face = frame[top:bottom, left:right]\n",
    "                        face = cv2.medianBlur(face,35,5)\n",
    "                        face = cv2.GaussianBlur(face,(35,5),100)\n",
    "                        frame[top:bottom, left:right]=face\n",
    "            if cv2.waitKey(1) & 0xFF == ord('q'):                  #Press Q to close the window\n",
    "                break\n",
    "\n",
    "        for (top, right, bottom, left) in face_locations:      \n",
    "            copy_flocation=face_locations\n",
    "            face = frame[top:bottom, left:right]\n",
    "            face = cv2.medianBlur(face,35,5)                    #Applying MedianBlur to reduce features\n",
    "            face = cv2.GaussianBlur(face,(35,5),100)            #GaussianBlur blurs out the face even more\n",
    "            frame[top:bottom, left:right]=face\n",
    "            # Draw a box around the face\n",
    "            #cv2.rectangle(frame, (left, top), (right, bottom), (0, 0, 255), 2)\n",
    "\n",
    "        cv2.imshow('Video',frame)\n",
    "\n",
    "        if cv2.waitKey(1) & 0xFF == ord('q'):\n",
    "            break\n",
    "    video_capture.release()\n",
    "    cv2.destroyAllWindows()"
   ]
  },
  {
   "cell_type": "code",
   "execution_count": 6,
   "metadata": {},
   "outputs": [],
   "source": [
    "main()"
   ]
  },
  {
   "cell_type": "code",
   "execution_count": null,
   "metadata": {},
   "outputs": [],
   "source": []
  }
 ],
 "metadata": {
  "kernelspec": {
   "display_name": "Python 3",
   "language": "python",
   "name": "python3"
  },
  "language_info": {
   "codemirror_mode": {
    "name": "ipython",
    "version": 3
   },
   "file_extension": ".py",
   "mimetype": "text/x-python",
   "name": "python",
   "nbconvert_exporter": "python",
   "pygments_lexer": "ipython3",
   "version": "3.7.5"
  }
 },
 "nbformat": 4,
 "nbformat_minor": 4
}
